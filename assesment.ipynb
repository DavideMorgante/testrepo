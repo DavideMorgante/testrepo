{
 "cells": [
  {
   "cell_type": "markdown",
   "id": "a0c43ec2-e5d4-4b5f-92f7-df60b9749710",
   "metadata": {},
   "source": [
    "# Graded notebook for Coursera "
   ]
  },
  {
   "cell_type": "markdown",
   "id": "29e68b35-fee9-45f0-bf07-55f342022bcd",
   "metadata": {},
   "source": [
    "This notebook is made for the peer-graded assesment of the IBM course \"Tools for data science\" "
   ]
  },
  {
   "cell_type": "markdown",
   "id": "4575ba6e-47d9-4911-af04-9064a169c07f",
   "metadata": {},
   "source": [
    "## Data science languages \n",
    "Common data science languages include, but are not limited to: \n",
    "- Python \n",
    "- R\n",
    "- Scala\n",
    "- Julia\n",
    "- SQL\n",
    "- Javascript"
   ]
  },
  {
   "cell_type": "markdown",
   "id": "a349fd9e-9282-4da8-afb6-136385f647bb",
   "metadata": {},
   "source": [
    "Common data science libraries for Python are \n",
    "- NumPy\n",
    "- Pandas\n",
    "- Matplotlib\n",
    "- Scikit-learn\n",
    "- TensorFlow\n",
    "- Keras\n",
    "While for R are \n",
    "- ggplot2 \n",
    "- caret "
   ]
  },
  {
   "cell_type": "markdown",
   "id": "a50b0186-ad75-433c-8675-578e13fd5597",
   "metadata": {},
   "source": [
    "## Data science tools \n",
    "Some tools for data science \n",
    "\n",
    "| **Tool**  | **Description** |\n",
    "|-----------|-----------|\n",
    "| Jupyter Notebook  | Interactive coding environment       |\n",
    "| RStudio           | IDE for R programming                |\n",
    "| Apache Spark      | Big Data processing framework        |\n",
    "| VScode            | Coding environment                   |"
   ]
  },
  {
   "cell_type": "markdown",
   "id": "093373e5-e603-437d-b195-3412190d9c4d",
   "metadata": {},
   "source": [
    "## Arithmetic expressions\n",
    "Here we give some examples of arithmetic expressions in python "
   ]
  },
  {
   "cell_type": "code",
   "execution_count": 2,
   "id": "2610b0e5-a79a-4fc4-acec-645bff85c954",
   "metadata": {},
   "outputs": [
    {
     "name": "stdout",
     "output_type": "stream",
     "text": [
      "35\n"
     ]
    }
   ],
   "source": [
    "# Sum and products\n",
    "a = 5\n",
    "b = 15\n",
    "c = 2\n",
    "print(a+b*c)"
   ]
  },
  {
   "cell_type": "code",
   "execution_count": 4,
   "id": "613fa27a-8381-4e02-9021-da05ea2638e9",
   "metadata": {},
   "outputs": [
    {
     "name": "stdout",
     "output_type": "stream",
     "text": [
      "4.166666666666667\n"
     ]
    }
   ],
   "source": [
    "# From minutes to hours: define a function that takes minutes and converts them into hours by dividing them by 60\n",
    "h_from_m = lambda m: m/60\n",
    "# Print how many hours in 250 minuts\n",
    "print(h_from_m(250))"
   ]
  },
  {
   "cell_type": "code",
   "execution_count": null,
   "id": "b8470d8f-1401-4807-9edd-97732f2a4971",
   "metadata": {},
   "outputs": [],
   "source": []
  }
 ],
 "metadata": {
  "kernelspec": {
   "display_name": "Python 3 (ipykernel)",
   "language": "python",
   "name": "python3"
  },
  "language_info": {
   "codemirror_mode": {
    "name": "ipython",
    "version": 3
   },
   "file_extension": ".py",
   "mimetype": "text/x-python",
   "name": "python",
   "nbconvert_exporter": "python",
   "pygments_lexer": "ipython3",
   "version": "3.11.4"
  }
 },
 "nbformat": 4,
 "nbformat_minor": 5
}
